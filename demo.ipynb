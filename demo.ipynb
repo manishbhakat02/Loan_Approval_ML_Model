{
 "cells": [
  {
   "cell_type": "code",
   "execution_count": 5,
   "id": "4940dc3e",
   "metadata": {},
   "outputs": [],
   "source": [
    "import streamlit as st"
   ]
  },
  {
   "cell_type": "code",
   "execution_count": 6,
   "id": "1ea9b756",
   "metadata": {},
   "outputs": [],
   "source": [
    "import pickle"
   ]
  },
  {
   "cell_type": "code",
   "execution_count": 7,
   "id": "c107f5c0",
   "metadata": {},
   "outputs": [],
   "source": [
    "model=pickle.load(open('classifier.pkl','rb'))"
   ]
  },
  {
   "cell_type": "code",
   "execution_count": 8,
   "id": "e67dd9af",
   "metadata": {},
   "outputs": [],
   "source": [
    "def run():\n",
    "    st.title(\"Loan Eligiblity Status Checker\")\n",
    "    acc_no=st.text_input('Account Number')\n",
    "    fn=st.text_input('Full Name')"
   ]
  },
  {
   "cell_type": "code",
   "execution_count": null,
   "id": "81cf3024",
   "metadata": {},
   "outputs": [],
   "source": []
  }
 ],
 "metadata": {
  "kernelspec": {
   "display_name": "Python 3 (ipykernel)",
   "language": "python",
   "name": "python3"
  },
  "language_info": {
   "codemirror_mode": {
    "name": "ipython",
    "version": 3
   },
   "file_extension": ".py",
   "mimetype": "text/x-python",
   "name": "python",
   "nbconvert_exporter": "python",
   "pygments_lexer": "ipython3",
   "version": "3.11.3"
  }
 },
 "nbformat": 4,
 "nbformat_minor": 5
}
